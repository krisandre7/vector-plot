{
 "cells": [
  {
   "cell_type": "code",
   "execution_count": 1,
   "id": "fbed49d0-6fc6-48d8-a9ac-46ceb8d74681",
   "metadata": {},
   "outputs": [],
   "source": [
    "def menu(wine, entree, dessert): \n",
    "    return {'wine': wine, 'entree': entree, 'dessert': dessert} "
   ]
  },
  {
   "cell_type": "code",
   "execution_count": 2,
   "id": "c4ea5868-1491-47ed-af28-cb8e0374608e",
   "metadata": {},
   "outputs": [
    {
     "data": {
      "text/plain": [
       "{'wine': 'chardonnay', 'entree': 'chicken', 'dessert': 'cake'}"
      ]
     },
     "execution_count": 2,
     "metadata": {},
     "output_type": "execute_result"
    }
   ],
   "source": [
    "menu('chardonnay', 'chicken', 'cake')"
   ]
  },
  {
   "cell_type": "code",
   "execution_count": 3,
   "id": "29fca16f-2e8d-4513-af0d-8bf8695c8a2b",
   "metadata": {},
   "outputs": [
    {
     "data": {
      "text/plain": [
       "{'wine': 'bordeaux', 'entree': 'beef', 'dessert': 'bagel'}"
      ]
     },
     "execution_count": 3,
     "metadata": {},
     "output_type": "execute_result"
    }
   ],
   "source": [
    "menu(entree='beef', dessert='bagel', wine='bordeaux')"
   ]
  },
  {
   "cell_type": "code",
   "execution_count": 4,
   "id": "52b37d27-f24e-48c2-b780-1df316bcf4fd",
   "metadata": {},
   "outputs": [
    {
     "data": {
      "text/plain": [
       "{'wine': 'frontenac', 'entree': 'fish', 'dessert': 'flan'}"
      ]
     },
     "execution_count": 4,
     "metadata": {},
     "output_type": "execute_result"
    }
   ],
   "source": [
    "menu('frontenac', dessert='flan', entree='fish')"
   ]
  },
  {
   "cell_type": "code",
   "execution_count": 5,
   "id": "5286f811-bfde-479b-ada4-f93cbe160539",
   "metadata": {},
   "outputs": [],
   "source": [
    "def menu(wine, entree, dessert='pudding'): \n",
    "    return {'wine': wine, 'entree': entree, 'dessert': dessert}"
   ]
  },
  {
   "cell_type": "code",
   "execution_count": 6,
   "id": "4f748c40-91a5-449e-9020-b2494f5310c9",
   "metadata": {},
   "outputs": [
    {
     "data": {
      "text/plain": [
       "{'wine': 'chardonnay', 'entree': 'chicken', 'dessert': 'pudding'}"
      ]
     },
     "execution_count": 6,
     "metadata": {},
     "output_type": "execute_result"
    }
   ],
   "source": [
    "menu('chardonnay', 'chicken')"
   ]
  },
  {
   "cell_type": "code",
   "execution_count": 7,
   "id": "37fd1873-30bd-4055-b19e-64b243271518",
   "metadata": {},
   "outputs": [
    {
     "data": {
      "text/plain": [
       "{'wine': 'dunkelfelder', 'entree': 'duck', 'dessert': 'doughnut'}"
      ]
     },
     "execution_count": 7,
     "metadata": {},
     "output_type": "execute_result"
    }
   ],
   "source": [
    "menu('dunkelfelder', 'duck', 'doughnut')"
   ]
  },
  {
   "cell_type": "code",
   "execution_count": 8,
   "id": "2d2bcaea-052b-414a-b583-c417e8847cbe",
   "metadata": {},
   "outputs": [
    {
     "name": "stdout",
     "output_type": "stream",
     "text": [
      "Positional tuple: (3, 2, 1, 'wait!', 'uh...')\n"
     ]
    }
   ],
   "source": [
    "def print_args(*args):\n",
    "    print('Positional tuple:', args)\n",
    "\n",
    "print_args(3, 2, 1, 'wait!', 'uh...')"
   ]
  },
  {
   "cell_type": "code",
   "execution_count": 9,
   "id": "20ee7a4c-515c-4076-bc26-caef9f79a38e",
   "metadata": {},
   "outputs": [
    {
     "name": "stdout",
     "output_type": "stream",
     "text": [
      "Need this one: cap\n",
      "Need this one too: gloves\n",
      "All the rest: ('scarf', 'monocle', 'mustache wax')\n"
     ]
    }
   ],
   "source": [
    "def print_more(required1, required2, *args): \n",
    "    print('Need this one:', required1)\n",
    "    \n",
    "    print('Need this one too:', required2) \n",
    "    \n",
    "    print('All the rest:', args)\n",
    "\n",
    "print_more('cap', 'gloves', 'scarf', 'monocle', 'mustache wax')"
   ]
  },
  {
   "cell_type": "code",
   "execution_count": 11,
   "id": "ec5f46ee-2364-4c1d-bd33-544e6cef809d",
   "metadata": {},
   "outputs": [
    {
     "name": "stdout",
     "output_type": "stream",
     "text": [
      "Keyword arguments: {}\n"
     ]
    }
   ],
   "source": [
    "def print_kwargs(**kwargs): \n",
    "    print('Keyword arguments:', kwargs) \n",
    "\n",
    "print_kwargs()"
   ]
  },
  {
   "cell_type": "code",
   "execution_count": 13,
   "id": "cfec5c73-e28e-4fe7-9fb1-cda7e497cd39",
   "metadata": {},
   "outputs": [
    {
     "name": "stdout",
     "output_type": "stream",
     "text": [
      "Keyword arguments: {'wine': 'merlot', 'entree': 'mutton', 'dessert': 'macaroon'}\n"
     ]
    }
   ],
   "source": [
    "print_kwargs(wine='merlot', entree='mutton', dessert='macaroon')"
   ]
  },
  {
   "cell_type": "code",
   "execution_count": 15,
   "id": "f23e7291-3105-4f4b-9b26-25d11c948f20",
   "metadata": {},
   "outputs": [
    {
     "name": "stdout",
     "output_type": "stream",
     "text": [
      "Keyword arguments: {}\n",
      "Keyword arguments: {'wine': 'merlot', 'entree': 'mutton', 'dessert': 'macaroon'}\n"
     ]
    }
   ],
   "source": [
    "print_kwargs() \n",
    "print_kwargs(wine='merlot', entree='mutton', dessert='macaroon')"
   ]
  },
  {
   "cell_type": "code",
   "execution_count": 16,
   "id": "a593ffb9-6810-4fa5-9e2b-c7a6470723fc",
   "metadata": {},
   "outputs": [
    {
     "data": {
      "text/plain": [
       "\"We are the knights who say: 'Ni!'\""
      ]
     },
     "execution_count": 16,
     "metadata": {},
     "output_type": "execute_result"
    }
   ],
   "source": [
    "def knights(saying): \n",
    "    def inner(quote): \n",
    "        return \"We are the knights who say: '%s'\" % quote \n",
    "    return inner(saying)\n",
    "\n",
    "knights('Ni!')                                                         "
   ]
  },
  {
   "cell_type": "code",
   "execution_count": 17,
   "id": "36e8854b-7293-452a-b4de-0735de24b3be",
   "metadata": {},
   "outputs": [],
   "source": [
    "def sum_args(*args): \n",
    "    return sum(args)\n",
    "\n",
    "def run_with_positional_args(func, *args): \n",
    "    return func(*args) \n"
   ]
  },
  {
   "cell_type": "code",
   "execution_count": 18,
   "id": "0b8681a5-b46a-4859-a6c7-1c9e4f9c3f9e",
   "metadata": {},
   "outputs": [
    {
     "data": {
      "text/plain": [
       "<function __main__.run_with_positional_args(func, *args)>"
      ]
     },
     "execution_count": 18,
     "metadata": {},
     "output_type": "execute_result"
    }
   ],
   "source": [
    "run_with_positional_args"
   ]
  },
  {
   "cell_type": "code",
   "execution_count": 19,
   "id": "63f60af5-74a4-4350-a872-5eb0935d412c",
   "metadata": {},
   "outputs": [
    {
     "data": {
      "text/plain": [
       "10"
      ]
     },
     "execution_count": 19,
     "metadata": {},
     "output_type": "execute_result"
    }
   ],
   "source": [
    "run_with_positional_args(sum_args, 1, 2, 3, 4)"
   ]
  },
  {
   "cell_type": "markdown",
   "id": "a21684bd-c97d-4aae-b106-2ad82ff8c7e0",
   "metadata": {},
   "source": [
    "#### Sometimes, you want to modify an existing function without changing its source code. "
   ]
  },
  {
   "cell_type": "code",
   "execution_count": 67,
   "id": "bc6ff464-4567-44bb-9ba9-8941ce7de4f0",
   "metadata": {},
   "outputs": [],
   "source": [
    "def document_it(func):\n",
    "    def new_function(*args, **kwargs):\n",
    "        print('Running function:', func.__name__)\n",
    "        print('Positional arguments:', args)\n",
    "        print('Keyword arguments:', kwargs)\n",
    "\n",
    "        result = func(*args, **kwargs)\n",
    "\n",
    "        print('Result sum:', result)\n",
    "        \n",
    "        return result\n",
    "    \n",
    "    return new_function"
   ]
  },
  {
   "cell_type": "code",
   "execution_count": 75,
   "id": "1e53c4ae-dd49-47d2-a9ea-08920568172b",
   "metadata": {},
   "outputs": [],
   "source": [
    "def add_ints(a, b):\n",
    "    return a + b"
   ]
  },
  {
   "cell_type": "code",
   "execution_count": 76,
   "id": "515707c4-df6d-44fb-9a0b-e8e60074bd5a",
   "metadata": {},
   "outputs": [],
   "source": [
    "cooler_add_ints = document_it(add_ints)"
   ]
  },
  {
   "cell_type": "code",
   "execution_count": 77,
   "id": "3e5af531-0c7b-4416-99ed-f819bbd42b42",
   "metadata": {},
   "outputs": [
    {
     "name": "stdout",
     "output_type": "stream",
     "text": [
      "Running function: add_ints\n",
      "Positional arguments: (3, 5)\n",
      "Keyword arguments: {}\n",
      "Result: 8\n",
      "8\n",
      "Running function: new_function\n",
      "Positional arguments: ()\n",
      "Keyword arguments: {'a': 1, 'b': 2}\n",
      "Running function: add_ints\n",
      "Positional arguments: ()\n",
      "Keyword arguments: {'a': 1, 'b': 2}\n",
      "Result: 3\n",
      "Result: 3\n",
      "3\n"
     ]
    }
   ],
   "source": [
    "print(add_ints(3, 5))\n",
    "print(cooler_add_ints(a=1, b=2))"
   ]
  },
  {
   "cell_type": "code",
   "execution_count": 82,
   "id": "656850d4-dbc3-4015-ac0d-6ba04b56ec54",
   "metadata": {},
   "outputs": [],
   "source": [
    "@document_it\n",
    "def add_ints(a, b):\n",
    "    return a + b"
   ]
  },
  {
   "cell_type": "code",
   "execution_count": 83,
   "id": "0f71a9a1-883b-46d4-be6a-746a46282ef8",
   "metadata": {},
   "outputs": [
    {
     "name": "stdout",
     "output_type": "stream",
     "text": [
      "Running function: add_ints\n",
      "Positional arguments: (3, 5)\n",
      "Keyword arguments: {}\n",
      "Result: 8\n"
     ]
    },
    {
     "data": {
      "text/plain": [
       "8"
      ]
     },
     "execution_count": 83,
     "metadata": {},
     "output_type": "execute_result"
    }
   ],
   "source": [
    "add_ints(3, 5)"
   ]
  },
  {
   "cell_type": "code",
   "execution_count": 94,
   "id": "c0c40de6-deae-464d-993b-ee32b01d091e",
   "metadata": {},
   "outputs": [],
   "source": [
    "#outro exemplo de decorator\n",
    "def square_it(func):\n",
    "    \n",
    "    def new_function(*args, **kwargs):\n",
    "        \n",
    "        result = func(*args, **kwargs)\n",
    "        print(f\"Result square: {result*result}\")\n",
    "        return result * result\n",
    "    \n",
    "    return new_function\n"
   ]
  },
  {
   "cell_type": "code",
   "execution_count": 95,
   "id": "1d7a71f2-5b35-41f2-972e-4a4bfe385e12",
   "metadata": {},
   "outputs": [
    {
     "name": "stdout",
     "output_type": "stream",
     "text": [
      "Running function: add_ints\n",
      "Positional arguments: (3, 2)\n",
      "Keyword arguments: {}\n",
      "Result: 5\n",
      "Result square: 25\n"
     ]
    },
    {
     "data": {
      "text/plain": [
       "25"
      ]
     },
     "execution_count": 95,
     "metadata": {},
     "output_type": "execute_result"
    }
   ],
   "source": [
    "@square_it\n",
    "@document_it\n",
    "def add_ints(a, b):\n",
    "    return a + b\n",
    "\n",
    "add_ints(3, 2)"
   ]
  },
  {
   "cell_type": "code",
   "execution_count": null,
   "id": "44f03d5d-dd69-4305-9b82-406682e571e4",
   "metadata": {},
   "outputs": [],
   "source": []
  },
  {
   "cell_type": "code",
   "execution_count": null,
   "id": "c79b5702-ab06-4038-b5b6-b8ed98df4737",
   "metadata": {},
   "outputs": [],
   "source": []
  }
 ],
 "metadata": {
  "kernelspec": {
   "display_name": "Python 3 (ipykernel)",
   "language": "python",
   "name": "python3"
  },
  "language_info": {
   "codemirror_mode": {
    "name": "ipython",
    "version": 3
   },
   "file_extension": ".py",
   "mimetype": "text/x-python",
   "name": "python",
   "nbconvert_exporter": "python",
   "pygments_lexer": "ipython3",
   "version": "3.9.16"
  }
 },
 "nbformat": 4,
 "nbformat_minor": 5
}
