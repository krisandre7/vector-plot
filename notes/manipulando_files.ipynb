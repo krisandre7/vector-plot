{
 "cells": [
  {
   "cell_type": "code",
   "execution_count": null,
   "id": "0198cd3b-7f13-4325-b8f9-a6d2e604c21e",
   "metadata": {},
   "outputs": [],
   "source": []
  },
  {
   "cell_type": "code",
   "execution_count": 12,
   "id": "0a55ca7f-6394-4758-88fe-d2c053816ecd",
   "metadata": {},
   "outputs": [
    {
     "name": "stdout",
     "output_type": "stream",
     "text": [
      "Aprendi com os meus próprios erros que sofrer não torna mais poético, chorar não deixa mais aliviado e implorar não traz ninguém de volta.\n",
      "\n",
      "Aprendi também que por mais que você queria muito alguém, ninguém vale tanto a pena a ponto de você deixar de se querer.\n",
      "\n",
      "Eu que gritei para tantas pessoas ficarem, hoje só quero mesmo é que elas sumam de uma vez por todas.\n",
      "\n",
      "E em silêncio, que é pra ninguém ter porque se lamentar.\n",
      "\n"
     ]
    }
   ],
   "source": [
    "#  Se o arquivo nao existir, ele acusará erro com o comando R.\n",
    "arquivo = open('../data/any_text', 'r')\n",
    "\n",
    "for linha in arquivo:\n",
    "    print(linha)\n",
    "arquivo.close()"
   ]
  },
  {
   "cell_type": "code",
   "execution_count": 13,
   "id": "ecf56de0-2a3e-4cfa-8861-d610ca86b8d4",
   "metadata": {},
   "outputs": [],
   "source": [
    "arquivo = open('../data/any_text', 'r')\n",
    "unica_string = arquivo.read() # Ler todas as linhas em um única string\n",
    "arquivo.close()"
   ]
  },
  {
   "cell_type": "code",
   "execution_count": 14,
   "id": "16975719-58cc-4098-81b4-eb98d79d3c23",
   "metadata": {},
   "outputs": [
    {
     "name": "stdout",
     "output_type": "stream",
     "text": [
      "4 ['Aprendi com os meus próprios erros que sofrer não torna mais poético, chorar não deixa mais aliviado e implorar não traz ninguém de volta.\\n', 'Aprendi também que por mais que você queria muito alguém, ninguém vale tanto a pena a ponto de você deixar de se querer.\\n', 'Eu que gritei para tantas pessoas ficarem, hoje só quero mesmo é que elas sumam de uma vez por todas.\\n', 'E em silêncio, que é pra ninguém ter porque se lamentar.\\n']\n"
     ]
    }
   ],
   "source": [
    "arquivo = open('../data/any_text', 'r')\n",
    "lista = arquivo.readlines() # Ler todas as linhas em uma lista\n",
    "print(len(lista), lista)\n",
    "arquivo.close()"
   ]
  },
  {
   "cell_type": "markdown",
   "id": "019ff671-3f4b-4136-8c22-228800e12c33",
   "metadata": {},
   "source": [
    "### Cria um arquivo vazio"
   ]
  },
  {
   "cell_type": "code",
   "execution_count": 16,
   "id": "6ebda7a0-b6fd-4698-9f12-2143092d259f",
   "metadata": {},
   "outputs": [],
   "source": [
    "arquivo = open('novo-arquivo.txt', 'w')\n",
    "arquivo.close()"
   ]
  },
  {
   "cell_type": "markdown",
   "id": "b390702f-968a-4739-8765-7f4589465d53",
   "metadata": {},
   "source": [
    "#### Se o arquivo já existir ele irá sobrescrever todo o conteúdo."
   ]
  },
  {
   "cell_type": "code",
   "execution_count": 24,
   "id": "0fd40db1-bd27-4d93-abb1-9cee604fe161",
   "metadata": {},
   "outputs": [],
   "source": [
    "arquivo = open('novo-arquivo.txt', 'w')\n",
    "arquivo.write('nova linha')\n",
    "arquivo.close()"
   ]
  },
  {
   "cell_type": "code",
   "execution_count": 25,
   "id": "02c4a16f-1344-4f16-9198-d34f36a0a42a",
   "metadata": {},
   "outputs": [],
   "source": [
    "#Adicionar ao final do arquivo."
   ]
  },
  {
   "cell_type": "code",
   "execution_count": 27,
   "id": "481e44cc-791d-47e1-89e2-311fad5b6274",
   "metadata": {},
   "outputs": [],
   "source": [
    "arquivo = open('../data/any_text', 'r') # Abra o arquivo (leitura)\n",
    "conteudo = arquivo.readlines()\n",
    "conteudo.append('Nova linha')   # insira seu conteúdo\n",
    "arquivo.close()\n",
    "\n",
    "arquivo = open('../data/any_text', 'w') # Abre novamente o arquivo (escrita)\n",
    "arquivo.writelines(conteudo)    # escreva o conteúdo criado anteriormente nele.\n",
    "\n",
    "arquivo.close()"
   ]
  },
  {
   "cell_type": "code",
   "execution_count": 28,
   "id": "63d54c04-a9a2-43d1-935b-cb22880c866d",
   "metadata": {},
   "outputs": [],
   "source": [
    "#No fim das contas, eu quero um code que use o with."
   ]
  },
  {
   "cell_type": "code",
   "execution_count": 30,
   "id": "3071adb9-d86a-493c-95c8-314f7e996105",
   "metadata": {},
   "outputs": [
    {
     "name": "stdout",
     "output_type": "stream",
     "text": [
      "Oiiii sumido\n"
     ]
    }
   ],
   "source": [
    "# Exemplo de abertura de arquivo para escrita\n",
    "with open('arquivo.txt', 'w') as file:\n",
    "    file.write('Oiiii sumido')\n",
    "\n",
    "# Exemplo de abertura de arquivo para leitura\n",
    "with open('arquivo.txt', 'r') as file:\n",
    "    content = file.read()\n",
    "    print(content)"
   ]
  },
  {
   "cell_type": "code",
   "execution_count": null,
   "id": "d7018d48-83f4-49b7-8c08-9948dd680929",
   "metadata": {},
   "outputs": [],
   "source": []
  }
 ],
 "metadata": {
  "kernelspec": {
   "display_name": "Python 3 (ipykernel)",
   "language": "python",
   "name": "python3"
  },
  "language_info": {
   "codemirror_mode": {
    "name": "ipython",
    "version": 3
   },
   "file_extension": ".py",
   "mimetype": "text/x-python",
   "name": "python",
   "nbconvert_exporter": "python",
   "pygments_lexer": "ipython3",
   "version": "3.9.16"
  }
 },
 "nbformat": 4,
 "nbformat_minor": 5
}
